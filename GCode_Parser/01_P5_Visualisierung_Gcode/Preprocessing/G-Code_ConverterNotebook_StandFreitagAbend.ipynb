{
 "cells": [
  {
   "cell_type": "code",
   "execution_count": 408,
   "metadata": {},
   "outputs": [],
   "source": [
    "# import libs\n",
    "\n",
    "import numpy as np\n",
    "import Laser\n",
    "import gCode\n",
    "import random\n",
    "import Printer\n"
   ]
  },
  {
   "cell_type": "markdown",
   "metadata": {},
   "source": [
    "# Important definition\n",
    "positive angle in CCW direction\n",
    "\n",
    "### Units\n",
    "Distances: mm  \n",
    "Angles: degrees"
   ]
  },
  {
   "cell_type": "markdown",
   "metadata": {},
   "source": [
    "# Define functions"
   ]
  },
  {
   "cell_type": "markdown",
   "metadata": {},
   "source": []
  },
  {
   "cell_type": "code",
   "execution_count": 409,
   "metadata": {},
   "outputs": [],
   "source": [
    "# read G-Code file and return a list of strings\n",
    "def read_gcode_file(filename):\n",
    "    tmp = []\n",
    "    with open(filename, 'r') as f:\n",
    "        gcode = f.readlines()\n",
    "    for line in gcode:\n",
    "        tmp.append(line)\n",
    "    \n",
    "    return np.array(tmp)\n",
    "    "
   ]
  },
  {
   "cell_type": "code",
   "execution_count": 410,
   "metadata": {},
   "outputs": [],
   "source": [
    "def parseCoord(gCodeObj,linestring):\n",
    "    line = linestring\n",
    "    X = None\n",
    "    Y = None\n",
    "    Z = None\n",
    "    move = False\n",
    "\n",
    "    # check the command of the gcode line (string until first space)\n",
    "    command = line.split(' ')[0]\n",
    "\n",
    "    # check if line is ;LAYER:1 and gCodeObj.firstLayerCheck is False\n",
    "    if line.startswith(';LAYER:1') and not gCodeObj.firstLayerCheck:\n",
    "        gCodeObj.updateFirstLayerCheck(True)\n",
    "        print(\"First layer check is True\")\n",
    "\n",
    "    # check if firstLayerCheck is True\n",
    "    if gCodeObj.firstLayerCheck:\n",
    "        # if command == G1 or G0 than move = True\n",
    "        if command == 'G1' or command == 'G0':\n",
    "            move = True\n",
    "        if command == 'G1':\n",
    "            gCodeObj.updateNumberOfG1()\n",
    "            \n",
    "        # check if line contains ; which means it is a comment and skip line\n",
    "        if not ';' in line:\n",
    "            # parse the X Y Z coords from string to float\n",
    "            if 'X' in line:\n",
    "                X = float(line.split('X')[-1].split(' ')[0])\n",
    "            elif 'X' not in line:\n",
    "                X = None\n",
    "            if 'Y' in line:\n",
    "                Y = float(line.split('Y')[-1].split(' ')[0])\n",
    "            elif 'Y' not in line:\n",
    "                Y = None\n",
    "            if 'Z' in line:\n",
    "                Z = float(line.split('Z')[-1].split(' ')[0])\n",
    "            elif 'Z' not in line:\n",
    "                Z = None\n",
    "    else:\n",
    "        X = None\n",
    "        Y = None\n",
    "        Z = None\n",
    "    return move, X, Y, Z, command, linestring\n"
   ]
  },
  {
   "cell_type": "code",
   "execution_count": 411,
   "metadata": {},
   "outputs": [],
   "source": [
    "# calculate the distance between two points\n",
    "def calcDistance(x0, y0, x1, y1):\n",
    "    return np.sqrt((x1-x0)**2 + (y1-y0)**2)\n"
   ]
  },
  {
   "cell_type": "code",
   "execution_count": 412,
   "metadata": {},
   "outputs": [],
   "source": [
    "# calculate angle between two points (atan2)\n",
    "def calcAngle(x0, y0, x1, y1):\n",
    "    newAngle = np.arctan2((y1-y0),(x1-x0))\n",
    "   \n",
    "    # convert to degrees\n",
    "    newAngle = np.rad2deg(newAngle)\n",
    "    \n",
    "    # normalize angle\n",
    "    #newAngle = np.mod(newAngle, 360)\n",
    "    \n",
    "    return newAngle"
   ]
  },
  {
   "cell_type": "code",
   "execution_count": 413,
   "metadata": {},
   "outputs": [],
   "source": [
    "def findClosestAngle(targetAngle, LaserObj):\n",
    "    currentAngles = LaserObj.getNormAngles()\n",
    "    \n",
    "    # find the closest angle in the list of angles\n",
    "    closestAngleIndx = np.argmin(np.abs(currentAngles - targetAngle))\n",
    "    closestAngle = currentAngles[closestAngleIndx]\n",
    "\n",
    "    # calculte delta bewteen target and closest angle\n",
    "    deltaAngle = targetAngle - closestAngle\n",
    "\n",
    "    # update the angle of the laser\n",
    "    #LaserObj.updateAngles(deltaAngle)\n",
    "\n",
    "    return closestAngleIndx, deltaAngle\n",
    "\n",
    "    "
   ]
  },
  {
   "cell_type": "code",
   "execution_count": 414,
   "metadata": {},
   "outputs": [],
   "source": [
    "\n",
    "def convertAngleToSteps(angle):\n",
    "    return angle\n"
   ]
  },
  {
   "cell_type": "code",
   "execution_count": 415,
   "metadata": {},
   "outputs": [],
   "source": [
    "def postProcessGcode(gCodeArray, threshold, LaserObj, newFilePath, gCodeObj):\n",
    "\n",
    "    for i in range(gCodeArray.shape[0]-1):\n",
    "        move0, X0, Y0, Z0, command0, line0 = parseCoord(gCodeObj, gCodeArray[i])\n",
    "        move1, X1, Y1, Z1, command1, line1 = parseCoord(gCodeObj,gCodeArray[i+1])\n",
    "\n",
    "        # update lastPos if move1 is False and move0 is True\n",
    "        if move0 and not move1:\n",
    "            gCodeObj.updateLastPos(X0, Y0, Z0)\n",
    "\n",
    "\n",
    "        # clear Extruder for testing\n",
    "        if(0):\n",
    "            # copy line0 until reaches E \n",
    "            line0 = line0.split('E')[0] + '\\n'\n",
    "\n",
    "        # check if both lines are moves\n",
    "        if move0 and move1:\n",
    "            # check if the distance between the two points is larger than the threshold\n",
    "        \n",
    "            #print(\"i:\", i+1, \"move0: \", move0, \"move1: \", move1, \"X0: \", X0, \"Y0: \", Y0, \"Z0: \", Z0, \"command0: \", command0, \"line0: \", line0, \"X1: \", X1, \"Y1: \", Y1, \"Z1: \", Z1, \"command1: \", command1, \"line1: \", line1)\n",
    "            dist = calcDistance(X0, Y0, X1, Y1)\n",
    "            gCodeObj.updateTotalLengthOfG1(dist)\n",
    "\n",
    "            # calculate the angle between the two points\n",
    "            targetAngle = calcAngle(X0, Y0, X1, Y1)\n",
    "            lastAngle = gCodeObj.getLastAngle()\n",
    "            \n",
    "            # update the last angle\n",
    "            gCodeObj.updateLastAngle(targetAngle)\n",
    "\n",
    "                \n",
    "            if dist > threshold:            # and not (abs(lastAngle - targetAngle)>45)\n",
    "\n",
    "                # noralize the traget angle\n",
    "                targetAngle = np.mod(targetAngle, 360)\n",
    "\n",
    "                # find the closest angle to the target angle\n",
    "                closestAngleIndx, deltaAngle = findClosestAngle(targetAngle, LaserObj)\n",
    "                # update the angle of the laser\n",
    "                LaserObj.updateAngles(deltaAngle)\n",
    "                # convert the angle to steps\n",
    "                steps = convertAngleToSteps(deltaAngle)\n",
    "                # add new gcode line\n",
    "                    # rotate the laser by delta angle\n",
    "                        # for relative axis movement of laser introduce a G91\n",
    "                        # reset the relative axis movement with G90\n",
    "\n",
    "                tmpAngle = LaserObj.getAngles()[closestAngleIndx]\n",
    "\n",
    "                # insert some lines for debugging\n",
    "                debugLine = \"\\n \\n \\n; X0 \" +str(X0) + \" Y0: \" + str(Y0)  + \" X1: \" + str(X1) + \" Y1: \" + str(Y1) + \" dist: \" + str(dist) + \" targetAngle: \" + str(targetAngle) + \" closestAngle: \" + str(closestAngleIndx) + \" position of index: \" + str(tmpAngle)  + \" deltaAngle: \" + str(deltaAngle) + '\\n' #+ \"position of index: \" + LaserObj.getAngles()[closestAngleIndx] \n",
    "                debugLine += \"; Line0 \"+str(line0)\n",
    "                debugLine += \"; Line1 \"+str(line1) + '\\n'\n",
    "\n",
    "\n",
    "                # send a string to the console M118\n",
    "                debugLine += \"M118\" + \" S\\\"in Line \" + str(i) + \" of Gcode \\\"\" + '\\n'\n",
    "\n",
    "                # wait for 1 second\n",
    "                debugLine += \"G4 P1000\" + '\\n'\n",
    "\n",
    "                newLine01 = \"\\nG91 \\nG1 F6000 A\" + str(steps) + '\\nG90\\n'\n",
    "                        \n",
    "                # define string offset for physical laser connection\n",
    "                laserStringOffset = 2\n",
    "                \n",
    "                # activate laser PWM signal\n",
    "                newLine02 = \"M106 P\" + str(closestAngleIndx+laserStringOffset) + \" S0.8\" +'\\n'\n",
    "                \n",
    "                # insert line0\n",
    "                newLine03 = line0\n",
    "                \n",
    "                # deactivate laser PWM signal\n",
    "                newLine04 = \"M106 P\" + str(closestAngleIndx+laserStringOffset) + \" S0.0\"\n",
    "\n",
    "\n",
    "                # check if the last activated laser is the same as the current laser\n",
    "                # if true than skip the de- & activation of the laser\n",
    "                #if LaserObj.getLastActivatedLaser != None:\n",
    "                #    if LaserObj.getLastActivatedLaser == closestAngleIndx:\n",
    "\n",
    "                lines = [newLine01, newLine02, newLine03, newLine04]\n",
    "\n",
    "                # append new lines to newFilePath\n",
    "                with open(newFilePath, 'a') as f:\n",
    "                    f.write(debugLine)\n",
    "                    f.write(newLine01)\n",
    "                    f.write(newLine02)\n",
    "                    f.write(newLine03)\n",
    "                    f.write(newLine04)\n",
    "                    f.close()\n",
    "        else:\n",
    "            # append line0 to newFilePath\n",
    "            with open(newFilePath, 'a') as f:\n",
    "                f.write(line0)\n",
    "                f.close()\n",
    "\n",
    "    return True"
   ]
  },
  {
   "cell_type": "markdown",
   "metadata": {},
   "source": [
    "# Test functions"
   ]
  },
  {
   "cell_type": "markdown",
   "metadata": {},
   "source": []
  },
  {
   "cell_type": "code",
   "execution_count": 416,
   "metadata": {},
   "outputs": [],
   "source": [
    "# test calcAngle function\n",
    "if (0):\n",
    "    print(calcAngle(0,0,0,0))\n",
    "    print(calcAngle(0,0,1,-1))\n",
    "    print(calcAngle(0,0,-1,-1))\n",
    "    print(calcAngle(0,0,-1,1))\n"
   ]
  },
  {
   "cell_type": "code",
   "execution_count": 417,
   "metadata": {},
   "outputs": [],
   "source": [
    "# test the parseCoord function\n",
    "if(0):\n",
    "\n",
    "# read the gcode file\n",
    "    gcode = read_gcode_file(\"GCODE.txt\")\n",
    "\n",
    "    # create empty lists for the coordinates\n",
    "    X = []\n",
    "    Y = []\n",
    "    Z = []\n",
    "    cmd = []\n",
    "    i = 0\n",
    "    # loop over all lines in the gcode file\n",
    "    for line in gcode:\n",
    "        #print(i)\n",
    "        #i += 1\n",
    "        # parse the coordinates from the line\n",
    "        moveBool, x, y, z, command, linestring = parseCoord(line)\n",
    "        # append the coordinates to the lists\n",
    "        X.append(x)\n",
    "        Y.append(y)\n",
    "        Z.append(z)\n",
    "        cmd.append(command)\n",
    "\n",
    "# print first 10 elements of X Y Z\n",
    "j = 50\n",
    "if(0):\n",
    "    for i in range(j):\n",
    "        print(f\"X: {X[i]} Y: {Y[i]} Z: {Z[i]} cmd: {cmd[i]}\")"
   ]
  },
  {
   "cell_type": "markdown",
   "metadata": {},
   "source": [
    "# Main "
   ]
  },
  {
   "cell_type": "code",
   "execution_count": 418,
   "metadata": {},
   "outputs": [
    {
     "name": "stdout",
     "output_type": "stream",
     "text": [
      "(157,)\n",
      "First layer check is True\n",
      "True\n"
     ]
    }
   ],
   "source": [
    "# initiate Printer object, for duration calculation of process\n",
    "Prusa = Printer.Printer(velocity_trans=100, velocity_angular=100)\n",
    "\n",
    "# read the gcode file\n",
    "gcode = read_gcode_file(\"Input/PI3MK3M_Square_50mm.gcode\")\n",
    "gCodeObj = gCode.gCode(\"gCode\")\n",
    "\n",
    "# print shape of gcode\n",
    "print(gcode.shape)\n",
    "\n",
    "# create laser object\n",
    "numberOfLaser = 4\n",
    "laser = Laser.Laser(numberOfLaser)\n",
    "\n",
    "# threshold for the distance between two points \n",
    "minDistance = 5\n",
    "\n",
    "# check index in Output/index.txt\n",
    "with open(\"Output/index.txt\", 'r') as f:\n",
    "    index = int(f.read())\n",
    "    f.close()\n",
    "\n",
    "# create new file\n",
    "newFilePath = \"Output/GCODE_postprocessed_\" + str(index) + \".gcode\"\n",
    "\n",
    "# iterate index in Output/index.txt\n",
    "with open(\"Output/index.txt\", 'w') as f:\n",
    "    f.write(str(index+1))\n",
    "    f.close()\n",
    "\n",
    "# post process the gcode\n",
    "print(postProcessGcode(gcode, minDistance, laser, newFilePath, gCodeObj))\n"
   ]
  },
  {
   "cell_type": "code",
   "execution_count": 419,
   "metadata": {},
   "outputs": [
    {
     "name": "stdout",
     "output_type": "stream",
     "text": [
      "True\n",
      "45.02895539674188\n",
      "Total lenght of G1 commands:\t 2437.8711843502765 mm\n",
      "Total angle turned: \t45.02895539674188\n",
      "Total number of G1 commands: \t\t158\n"
     ]
    }
   ],
   "source": [
    "print(gCodeObj.firstLayerCheck)\n",
    "print(laser.absLaserMovement)\n",
    "print(\"Total lenght of G1 commands:\\t \" + str(gCodeObj.getTotalLengthOfG1()) + \" mm\")\n",
    "print(\"Total angle turned: \\t\" + str(laser.getAbsLaserMovement()))\n",
    "print(\"Total number of G1 commands: \\t\\t\" + str(gCodeObj.getNumberOfG1()))\n",
    "\n"
   ]
  }
 ],
 "metadata": {
  "kernelspec": {
   "display_name": "Python 3.10.10 64-bit",
   "language": "python",
   "name": "python3"
  },
  "language_info": {
   "codemirror_mode": {
    "name": "ipython",
    "version": 3
   },
   "file_extension": ".py",
   "mimetype": "text/x-python",
   "name": "python",
   "nbconvert_exporter": "python",
   "pygments_lexer": "ipython3",
   "version": "3.10.10"
  },
  "orig_nbformat": 4,
  "vscode": {
   "interpreter": {
    "hash": "bd385fe162c5ca0c84973b7dd5c518456272446b2b64e67c2a69f949ca7a1754"
   }
  }
 },
 "nbformat": 4,
 "nbformat_minor": 2
}
