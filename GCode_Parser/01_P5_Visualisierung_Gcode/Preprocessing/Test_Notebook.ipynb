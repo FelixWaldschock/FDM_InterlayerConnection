{
 "cells": [
  {
   "cell_type": "code",
   "execution_count": 35,
   "metadata": {},
   "outputs": [],
   "source": [
    "# import libs\n",
    "\n",
    "import numpy as np\n",
    "import Laser\n",
    "import gCode\n",
    "import random\n",
    "import Printer\n"
   ]
  },
  {
   "cell_type": "markdown",
   "metadata": {},
   "source": [
    "# Important definition\n",
    "positive angle in CCW direction\n",
    "\n",
    "### Units\n",
    "Distances: mm  \n",
    "Angles: degrees"
   ]
  },
  {
   "cell_type": "markdown",
   "metadata": {},
   "source": [
    "# Define functions"
   ]
  },
  {
   "cell_type": "markdown",
   "metadata": {},
   "source": []
  },
  {
   "cell_type": "code",
   "execution_count": 36,
   "metadata": {},
   "outputs": [],
   "source": [
    "# read G-Code file and return a list of strings\n",
    "def read_gcode_file(filename):\n",
    "    tmp = []\n",
    "    with open(filename, 'r') as f:\n",
    "        gcode = f.readlines()\n",
    "    for line in gcode:\n",
    "        tmp.append(line)\n",
    "    \n",
    "    return np.array(tmp)\n",
    "    "
   ]
  },
  {
   "cell_type": "code",
   "execution_count": 37,
   "metadata": {},
   "outputs": [],
   "source": [
    "def parseCoord(gCodeObj,linestring):\n",
    "    line = linestring\n",
    "    X = None\n",
    "    Y = None\n",
    "    Z = None\n",
    "    move = False\n",
    "\n",
    "    # check the command of the gcode line (string until first space)\n",
    "    command = line.split(' ')[0]\n",
    "\n",
    "    # check if line is ;LAYER:1 and gCodeObj.firstLayerCheck is False\n",
    "    if line.startswith(';LAYER:1') and not gCodeObj.firstLayerCheck:\n",
    "        gCodeObj.updateFirstLayerCheck(True)\n",
    "        print(\"First layer check is True\")\n",
    "\n",
    "    # check if firstLayerCheck is True\n",
    "    if gCodeObj.firstLayerCheck:\n",
    "        # if command == G1 or G0 than move = True\n",
    "        if command == 'G1' or command == 'G0':\n",
    "            move = True\n",
    "        if command == 'G1':\n",
    "            gCodeObj.updateNumberOfG1()\n",
    "            \n",
    "        # check if line contains ; which means it is a comment and skip line\n",
    "        if not ';' in line:\n",
    "            # parse the X Y Z coords from string to float\n",
    "            if 'X' in line:\n",
    "                X = float(line.split('X')[-1].split(' ')[0])\n",
    "            elif 'X' not in line:\n",
    "                X = None\n",
    "            if 'Y' in line:\n",
    "                Y = float(line.split('Y')[-1].split(' ')[0])\n",
    "            elif 'Y' not in line:\n",
    "                Y = None\n",
    "            if 'Z' in line:\n",
    "                Z = float(line.split('Z')[-1].split(' ')[0])\n",
    "            elif 'Z' not in line:\n",
    "                Z = None\n",
    "    else:\n",
    "        X = None\n",
    "        Y = None\n",
    "        Z = None\n",
    "    return move, X, Y, Z, command, linestring\n"
   ]
  },
  {
   "cell_type": "code",
   "execution_count": 38,
   "metadata": {},
   "outputs": [],
   "source": [
    "# calculate the distance between two points\n",
    "def calcDistance(x0, y0, x1, y1):\n",
    "    return np.sqrt((x1-x0)**2 + (y1-y0)**2)\n"
   ]
  },
  {
   "cell_type": "code",
   "execution_count": 39,
   "metadata": {},
   "outputs": [],
   "source": [
    "# calculate angle between two points (atan2)\n",
    "def calcAngle(x0, y0, x1, y1):\n",
    "    newAngle = np.arctan2((y1-y0),(x1-x0))\n",
    "    if newAngle < 0:\n",
    "        newAngle = 2*np.pi - np.abs(newAngle)\n",
    "    # convert to degrees\n",
    "    newAngle = newAngle*180/np.pi\n",
    "    return newAngle"
   ]
  },
  {
   "cell_type": "code",
   "execution_count": 40,
   "metadata": {},
   "outputs": [],
   "source": [
    "def findClosestAngle(targetAngle, LaserObj):\n",
    "    currentAngles = LaserObj.getNormAngles()\n",
    "    # find the closest angle in the list of angles\n",
    "    closestAngleIndx = np.argmin(np.abs(currentAngles - targetAngle))\n",
    "    closestAngle = currentAngles[closestAngleIndx]\n",
    "\n",
    "    # calculte delta bewteen target and closest angle\n",
    "    deltaAngle = targetAngle - closestAngle\n",
    "\n",
    "    # update the angle of the laser\n",
    "    LaserObj.updateAngles(deltaAngle)\n",
    "\n",
    "    return closestAngleIndx, deltaAngle\n",
    "\n",
    "    "
   ]
  },
  {
   "cell_type": "code",
   "execution_count": 41,
   "metadata": {},
   "outputs": [],
   "source": [
    "def convertAngleToSteps(angle):\n",
    "    # function to convert an angle to steps for the stepper motor\n",
    "    ratioGear = 37/24\n",
    "    ratioStepper = 0.9\n",
    "\n",
    "    steps = angle/ratioGear\n",
    "    steps = steps/ratioStepper\n",
    "\n",
    "    ratioMeasured = 0.6225\n",
    "    #return steps // unit of angles and conversion is made in the config file of the printer\n",
    "    return angle/ratioMeasured"
   ]
  },
  {
   "cell_type": "code",
   "execution_count": 42,
   "metadata": {},
   "outputs": [],
   "source": [
    "def postProcessGcode(gCodeArray, threshold, LaserObj, newFilePath, gCodeObj):\n",
    "\n",
    "    for i in range(gCodeArray.shape[0]-1):\n",
    "        move0, X0, Y0, Z0, command0, line0 = parseCoord(gCodeObj, gCodeArray[i])\n",
    "        move1, X1, Y1, Z1, command1, line1 = parseCoord(gCodeObj,gCodeArray[i+1])\n",
    "       \n",
    "\n",
    "        # clear Extruder for testing\n",
    "        if(0):\n",
    "            # copy line0 until reaches E \n",
    "            line0 = line0.split('E')[0] + '\\n'\n",
    "\n",
    "        # check if both lines are moves\n",
    "        #print(\"move0\", move0, \"move1\", move1)\n",
    "        if move0 and move1:\n",
    "            # check if both lines have no Z\n",
    "            if Z0 == None and Z1 == None:\n",
    "                # check if the distance between the two points is larger than the threshold\n",
    "            \n",
    "\n",
    "\n",
    "                #print(\"i:\", i+1, \"move0: \", move0, \"move1: \", move1, \"X0: \", X0, \"Y0: \", Y0, \"Z0: \", Z0, \"command0: \", command0, \"line0: \", line0, \"X1: \", X1, \"Y1: \", Y1, \"Z1: \", Z1, \"command1: \", command1, \"line1: \", line1)\n",
    "                dist = calcDistance(X0, Y0, X1, Y1)\n",
    "                gCodeObj.updateTotalLengthOfG1(dist)\n",
    "\n",
    "                # calculate the angle between the two points\n",
    "                targetAngle = calcAngle(X0, Y0, X1, Y1)\n",
    "                lastAngle = gCodeObj.getLastAngle()\n",
    "                \n",
    "                # update the last angle\n",
    "                gCodeObj.updateLastAngle(targetAngle)\n",
    "\n",
    "                    \n",
    "                if dist > threshold and not (abs(lastAngle - targetAngle)>45):\n",
    "\n",
    "                    \n",
    "                    # find the closest angle to the target angle\n",
    "                    closestAngleIndx, deltaAngle = findClosestAngle(targetAngle, LaserObj)\n",
    "                    # update the angle of the laser\n",
    "                    LaserObj.updateAngles(deltaAngle)\n",
    "                    # convert the angle to steps\n",
    "                    steps = convertAngleToSteps(deltaAngle)\n",
    "                    # add new gcode line\n",
    "                        # rotate the laser by delta angle\n",
    "                            # for relative axis movement of laser introduce a G91\n",
    "                            # reset the relative axis movement with G90\n",
    "                    newLine01 = \"\\nG91 \\nG1 F6000 A\" + str(steps) + '\\nG90\\n'\n",
    "                            \n",
    "\n",
    "                        # activate laser PWM signal\n",
    "                    laserString = \"duex.fan\"\n",
    "                    newLine02 = \"M571 P\\\"\" + laserString + str(closestAngleIndx+4) + \"\\\" S0.8\" +'\\n'\n",
    "                        # insert line0\n",
    "                    newLine03 = line0\n",
    "                        # deactivate laser PWM signal\n",
    "                    newLine04 = \"M571 P\\\"\" + laserString + str(closestAngleIndx+4) + \"\\\" S0.0\"\n",
    "\n",
    "                    # check if the last activated laser is the same as the current laser\n",
    "                    # if true than skip the de- & activation of the laser\n",
    "                    #if LaserObj.getLastActivatedLaser != None:\n",
    "                    #    if LaserObj.getLastActivatedLaser == closestAngleIndx:\n",
    "\n",
    "                    lines = [newLine01, newLine02, newLine03, newLine04]\n",
    "\n",
    "                    # append new lines to newFilePath\n",
    "                    with open(newFilePath, 'a') as f:\n",
    "                        f.write(newLine01)\n",
    "                        f.write(newLine02)\n",
    "                        f.write(newLine03)\n",
    "                        f.write(newLine04)\n",
    "                        f.close()\n",
    "        else:\n",
    "            # append line0 to newFilePath\n",
    "            with open(newFilePath, 'a') as f:\n",
    "                f.write(line0)\n",
    "                f.close()\n",
    "\n",
    "    return True"
   ]
  },
  {
   "cell_type": "markdown",
   "metadata": {},
   "source": [
    "# Test functions"
   ]
  },
  {
   "cell_type": "markdown",
   "metadata": {},
   "source": []
  },
  {
   "cell_type": "code",
   "execution_count": 43,
   "metadata": {},
   "outputs": [],
   "source": [
    "# test calcAngle function\n",
    "if (0):\n",
    "    print(calcAngle(0,0,0,0))\n",
    "    print(calcAngle(0,0,1,-1))\n",
    "    print(calcAngle(0,0,-1,-1))\n",
    "    print(calcAngle(0,0,-1,1))\n"
   ]
  },
  {
   "cell_type": "code",
   "execution_count": 44,
   "metadata": {},
   "outputs": [],
   "source": [
    "# test the parseCoord function\n",
    "if(0):\n",
    "\n",
    "# read the gcode file\n",
    "    gcode = read_gcode_file(\"GCODE.txt\")\n",
    "\n",
    "    # create empty lists for the coordinates\n",
    "    X = []\n",
    "    Y = []\n",
    "    Z = []\n",
    "    cmd = []\n",
    "    i = 0\n",
    "    # loop over all lines in the gcode file\n",
    "    for line in gcode:\n",
    "        #print(i)\n",
    "        #i += 1\n",
    "        # parse the coordinates from the line\n",
    "        moveBool, x, y, z, command, linestring = parseCoord(line)\n",
    "        # append the coordinates to the lists\n",
    "        X.append(x)\n",
    "        Y.append(y)\n",
    "        Z.append(z)\n",
    "        cmd.append(command)\n",
    "\n",
    "# print first 10 elements of X Y Z\n",
    "j = 50\n",
    "if(0):\n",
    "    for i in range(j):\n",
    "        print(f\"X: {X[i]} Y: {Y[i]} Z: {Z[i]} cmd: {cmd[i]}\")"
   ]
  },
  {
   "cell_type": "markdown",
   "metadata": {},
   "source": [
    "# Main "
   ]
  },
  {
   "cell_type": "code",
   "execution_count": 45,
   "metadata": {},
   "outputs": [
    {
     "name": "stdout",
     "output_type": "stream",
     "text": [
      "(6478,)\n",
      "First layer check is True\n"
     ]
    },
    {
     "ename": "TypeError",
     "evalue": "unsupported operand type(s) for -: 'NoneType' and 'float'",
     "output_type": "error",
     "traceback": [
      "\u001b[0;31m---------------------------------------------------------------------------\u001b[0m",
      "\u001b[0;31mTypeError\u001b[0m                                 Traceback (most recent call last)",
      "Cell \u001b[0;32mIn [45], line 22\u001b[0m\n\u001b[1;32m     19\u001b[0m newFilePath \u001b[38;5;241m=\u001b[39m \u001b[38;5;124m\"\u001b[39m\u001b[38;5;124mGCODE_postprocessed_2.txt\u001b[39m\u001b[38;5;124m\"\u001b[39m\n\u001b[1;32m     21\u001b[0m \u001b[38;5;66;03m# post process the gcode\u001b[39;00m\n\u001b[0;32m---> 22\u001b[0m \u001b[38;5;28mprint\u001b[39m(\u001b[43mpostProcessGcode\u001b[49m\u001b[43m(\u001b[49m\u001b[43mgcode\u001b[49m\u001b[43m,\u001b[49m\u001b[43m \u001b[49m\u001b[43mminDistance\u001b[49m\u001b[43m,\u001b[49m\u001b[43m \u001b[49m\u001b[43mlaser\u001b[49m\u001b[43m,\u001b[49m\u001b[43m \u001b[49m\u001b[43mnewFilePath\u001b[49m\u001b[43m,\u001b[49m\u001b[43m \u001b[49m\u001b[43mgCodeObj\u001b[49m\u001b[43m)\u001b[49m)\n",
      "Cell \u001b[0;32mIn [42], line 23\u001b[0m, in \u001b[0;36mpostProcessGcode\u001b[0;34m(gCodeArray, threshold, LaserObj, newFilePath, gCodeObj)\u001b[0m\n\u001b[1;32m     15\u001b[0m \u001b[38;5;28;01mif\u001b[39;00m move0 \u001b[38;5;129;01mand\u001b[39;00m move1:\n\u001b[1;32m     16\u001b[0m     \u001b[38;5;66;03m# check if both lines have no Z\u001b[39;00m\n\u001b[1;32m     17\u001b[0m     \u001b[38;5;28;01mif\u001b[39;00m Z0 \u001b[38;5;241m==\u001b[39m \u001b[38;5;28;01mNone\u001b[39;00m \u001b[38;5;129;01mand\u001b[39;00m Z1 \u001b[38;5;241m==\u001b[39m \u001b[38;5;28;01mNone\u001b[39;00m:\n\u001b[1;32m     18\u001b[0m         \u001b[38;5;66;03m# check if the distance between the two points is larger than the threshold\u001b[39;00m\n\u001b[1;32m     19\u001b[0m     \n\u001b[1;32m     20\u001b[0m \n\u001b[1;32m     21\u001b[0m \n\u001b[1;32m     22\u001b[0m         \u001b[38;5;66;03m#print(\"i:\", i+1, \"move0: \", move0, \"move1: \", move1, \"X0: \", X0, \"Y0: \", Y0, \"Z0: \", Z0, \"command0: \", command0, \"line0: \", line0, \"X1: \", X1, \"Y1: \", Y1, \"Z1: \", Z1, \"command1: \", command1, \"line1: \", line1)\u001b[39;00m\n\u001b[0;32m---> 23\u001b[0m         dist \u001b[38;5;241m=\u001b[39m \u001b[43mcalcDistance\u001b[49m\u001b[43m(\u001b[49m\u001b[43mX0\u001b[49m\u001b[43m,\u001b[49m\u001b[43m \u001b[49m\u001b[43mY0\u001b[49m\u001b[43m,\u001b[49m\u001b[43m \u001b[49m\u001b[43mX1\u001b[49m\u001b[43m,\u001b[49m\u001b[43m \u001b[49m\u001b[43mY1\u001b[49m\u001b[43m)\u001b[49m\n\u001b[1;32m     24\u001b[0m         gCodeObj\u001b[38;5;241m.\u001b[39mupdateTotalLengthOfG1(dist)\n\u001b[1;32m     26\u001b[0m         \u001b[38;5;66;03m# calculate the angle between the two points\u001b[39;00m\n",
      "Cell \u001b[0;32mIn [38], line 3\u001b[0m, in \u001b[0;36mcalcDistance\u001b[0;34m(x0, y0, x1, y1)\u001b[0m\n\u001b[1;32m      2\u001b[0m \u001b[38;5;28;01mdef\u001b[39;00m \u001b[38;5;21mcalcDistance\u001b[39m(x0, y0, x1, y1):\n\u001b[0;32m----> 3\u001b[0m     \u001b[38;5;28;01mreturn\u001b[39;00m np\u001b[38;5;241m.\u001b[39msqrt((\u001b[43mx1\u001b[49m\u001b[38;5;241;43m-\u001b[39;49m\u001b[43mx0\u001b[49m)\u001b[38;5;241m*\u001b[39m\u001b[38;5;241m*\u001b[39m\u001b[38;5;241m2\u001b[39m \u001b[38;5;241m+\u001b[39m (y1\u001b[38;5;241m-\u001b[39my0)\u001b[38;5;241m*\u001b[39m\u001b[38;5;241m*\u001b[39m\u001b[38;5;241m2\u001b[39m)\n",
      "\u001b[0;31mTypeError\u001b[0m: unsupported operand type(s) for -: 'NoneType' and 'float'"
     ]
    }
   ],
   "source": [
    "# initiate Printer object, for duration calculation of process\n",
    "Prusa = Printer.Printer(velocity_trans=100, velocity_angular=100)\n",
    "\n",
    "# read the gcode file\n",
    "gcode = read_gcode_file(\"KorperLaserTest_0.2mm_PLA_MK3S_4m.txt\")\n",
    "gCodeObj = gCode.gCode(\"gCode\")\n",
    "\n",
    "# print shape of gcode\n",
    "print(gcode.shape)\n",
    "\n",
    "# create laser object\n",
    "numberOfLaser = 4\n",
    "laser = Laser.Laser(numberOfLaser)\n",
    "\n",
    "# threshold for the distance between two points \n",
    "minDistance = 2\n",
    "\n",
    "# create new file\n",
    "newFilePath = \"GCODE_postprocessed_2.txt\"\n",
    "\n",
    "# post process the gcode\n",
    "print(postProcessGcode(gcode, minDistance, laser, newFilePath, gCodeObj))\n"
   ]
  },
  {
   "cell_type": "code",
   "execution_count": null,
   "metadata": {},
   "outputs": [
    {
     "name": "stdout",
     "output_type": "stream",
     "text": [
      "False\n",
      "0\n",
      "Total lenght of G1 commands:\t 0 mm\n",
      "Total angle turned: \t0\n",
      "Total number of G1 commands: \t\t0\n"
     ]
    }
   ],
   "source": [
    "print(gCodeObj.firstLayerCheck)\n",
    "print(laser.absLaserMovement)\n",
    "print(\"Total lenght of G1 commands:\\t \" + str(gCodeObj.getTotalLengthOfG1()) + \" mm\")\n",
    "print(\"Total angle turned: \\t\" + str(laser.getAbsLaserMovement()))\n",
    "print(\"Total number of G1 commands: \\t\\t\" + str(gCodeObj.getNumberOfG1()))\n",
    "\n"
   ]
  }
 ],
 "metadata": {
  "kernelspec": {
   "display_name": "Python 3.10.10 64-bit",
   "language": "python",
   "name": "python3"
  },
  "language_info": {
   "codemirror_mode": {
    "name": "ipython",
    "version": 3
   },
   "file_extension": ".py",
   "mimetype": "text/x-python",
   "name": "python",
   "nbconvert_exporter": "python",
   "pygments_lexer": "ipython3",
   "version": "3.10.10"
  },
  "orig_nbformat": 4,
  "vscode": {
   "interpreter": {
    "hash": "bd385fe162c5ca0c84973b7dd5c518456272446b2b64e67c2a69f949ca7a1754"
   }
  }
 },
 "nbformat": 4,
 "nbformat_minor": 2
}
