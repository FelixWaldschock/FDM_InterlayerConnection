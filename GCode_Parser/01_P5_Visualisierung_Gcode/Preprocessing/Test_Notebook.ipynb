{
 "cells": [
  {
   "cell_type": "code",
   "execution_count": 13,
   "metadata": {},
   "outputs": [],
   "source": [
    "# import libs\n",
    "\n",
    "import numpy as np\n",
    "import Laser\n",
    "import random\n"
   ]
  },
  {
   "cell_type": "markdown",
   "metadata": {},
   "source": [
    "# Important definition\n",
    "positive angle in CCW direction"
   ]
  },
  {
   "cell_type": "markdown",
   "metadata": {},
   "source": [
    "# Define functions"
   ]
  },
  {
   "cell_type": "markdown",
   "metadata": {},
   "source": []
  },
  {
   "cell_type": "code",
   "execution_count": 14,
   "metadata": {},
   "outputs": [],
   "source": [
    "# read G-Code file and return a list of strings\n",
    "def read_gcode_file(filename):\n",
    "    tmp = []\n",
    "    with open(filename, 'r') as f:\n",
    "        gcode = f.readlines()\n",
    "    for line in gcode:\n",
    "        tmp.append(line)\n",
    "    \n",
    "    return np.array(tmp)\n",
    "    "
   ]
  },
  {
   "cell_type": "code",
   "execution_count": 15,
   "metadata": {},
   "outputs": [],
   "source": [
    "def parseCoord(linestring):\n",
    "    line = linestring\n",
    "    X = None\n",
    "    Y = None\n",
    "    Z = None\n",
    "\n",
    "    # check the command of the gcode line (string until first space)\n",
    "    command = line.split(' ')[0]\n",
    "    \n",
    "    # check if line contains ; which means it is a comment and skip line\n",
    "    if not ';' in line:\n",
    "        # parse the X Y Z coords from string to float\n",
    "        if 'X' in line:\n",
    "            X = float(line.split('X')[-1].split(' ')[0])\n",
    "        if 'Y' in line:\n",
    "            Y = float(line.split('Y')[-1].split(' ')[0])\n",
    "        if 'Z' in line:\n",
    "            Z = float(line.split('Z')[-1].split(' ')[0])\n",
    "    else:\n",
    "        X = None\n",
    "        Y = None\n",
    "        Z = None\n",
    "    return X, Y, Z, command, linestring\n"
   ]
  },
  {
   "cell_type": "code",
   "execution_count": 16,
   "metadata": {},
   "outputs": [],
   "source": [
    "# calculate the distance between two points\n",
    "def calcDistance(x0, y0, x1, y1):\n",
    "    return np.sqrt((x1-x0)**2 + (y1-y0)**2)\n"
   ]
  },
  {
   "cell_type": "code",
   "execution_count": 17,
   "metadata": {},
   "outputs": [],
   "source": [
    "# calculate angle between two points (atan2)\n",
    "def calcAngle(x0, y0, x1, y1):\n",
    "    newAngle = np.arctan2((y1-y0),(x1-x0))\n",
    "    if newAngle < 0:\n",
    "        newAngle = 2*np.pi - np.abs(newAngle)\n",
    "    # convert to degrees\n",
    "    newAngle = newAngle*180/np.pi\n",
    "    return newAngle"
   ]
  },
  {
   "cell_type": "code",
   "execution_count": 18,
   "metadata": {},
   "outputs": [],
   "source": [
    "def findClosestAngle(targetAngle, LaserObj):\n",
    "    currentAngles = LaserObj.getAngles()\n",
    "    "
   ]
  },
  {
   "cell_type": "code",
   "execution_count": 19,
   "metadata": {},
   "outputs": [],
   "source": [
    "def postProcessGcode(gCodeArray, nLaser):\n",
    "\n",
    "\n",
    "    return True"
   ]
  },
  {
   "cell_type": "markdown",
   "metadata": {},
   "source": [
    "# Test functions"
   ]
  },
  {
   "cell_type": "markdown",
   "metadata": {},
   "source": []
  },
  {
   "cell_type": "code",
   "execution_count": 20,
   "metadata": {},
   "outputs": [],
   "source": [
    "# test calcAngle function\n",
    "if (0):\n",
    "    print(calcAngle(0,0,1,1))\n",
    "    print(calcAngle(0,0,1,-1))\n",
    "    print(calcAngle(0,0,-1,-1))\n",
    "    print(calcAngle(0,0,-1,1))\n"
   ]
  },
  {
   "cell_type": "code",
   "execution_count": 21,
   "metadata": {},
   "outputs": [
    {
     "name": "stdout",
     "output_type": "stream",
     "text": [
      "X: None Y: None Z: None cmd: ;FLAVOR:Marlin\n",
      "\n",
      "X: None Y: None Z: None cmd: ;TIME:1701\n",
      "\n",
      "X: None Y: None Z: None cmd: ;Filament\n",
      "X: None Y: None Z: None cmd: ;Layer\n",
      "X: None Y: None Z: None cmd: ;MINX:71.8\n",
      "\n",
      "X: None Y: None Z: None cmd: ;MINY:91.8\n",
      "\n",
      "X: None Y: None Z: None cmd: ;MINZ:0.2\n",
      "\n",
      "X: None Y: None Z: None cmd: ;MAXX:178.2\n",
      "\n",
      "X: None Y: None Z: None cmd: ;MAXY:118.2\n",
      "\n",
      "X: None Y: None Z: None cmd: ;MAXZ:5\n",
      "\n",
      "X: None Y: None Z: None cmd: ;Generated\n",
      "X: None Y: None Z: None cmd: M82\n",
      "X: None Y: None Z: None cmd: G21\n",
      "X: None Y: None Z: None cmd: G90\n",
      "X: None Y: None Z: None cmd: M82\n",
      "X: None Y: None Z: None cmd: M104\n",
      "X: None Y: None Z: None cmd: M140\n",
      "X: None Y: None Z: None cmd: M190\n",
      "X: None Y: None Z: None cmd: M109\n",
      "X: None Y: None Z: None cmd: G28\n",
      "X: None Y: None Z: None cmd: G80\n",
      "X: None Y: None Z: None cmd: G92\n",
      "X: None Y: None Z: None cmd: G1\n",
      "X: None Y: None Z: None cmd: G1\n",
      "X: None Y: None Z: None cmd: G1\n",
      "X: None Y: None Z: None cmd: G92\n",
      "X: None Y: None Z: None cmd: G92\n",
      "X: None Y: None Z: None cmd: G92\n",
      "X: None Y: None Z: None cmd: G1\n",
      "X: None Y: None Z: None cmd: ;LAYER_COUNT:25\n",
      "\n",
      "X: None Y: None Z: None cmd: ;LAYER:0\n",
      "\n",
      "X: None Y: None Z: None cmd: M107\n",
      "\n",
      "X: 73.185 Y: 92.38 Z: 0.2 cmd: G0\n",
      "X: None Y: None Z: None cmd: ;TYPE:SKIRT\n",
      "\n",
      "X: None Y: None Z: None cmd: G1\n",
      "X: 73.622 Y: 92.126 Z: None cmd: G1\n",
      "X: 74.093 Y: 91.943 Z: None cmd: G1\n",
      "X: 74.588 Y: 91.837 Z: None cmd: G1\n",
      "X: 75.24 Y: 91.801 Z: None cmd: G1\n",
      "X: 89.339 Y: 91.8 Z: None cmd: G1\n",
      "X: 90.04 Y: 91.81 Z: None cmd: G1\n",
      "X: 90.58 Y: 91.864 Z: None cmd: G1\n",
      "X: 91.199 Y: 91.989 Z: None cmd: G1\n",
      "X: 92.334 Y: 92.242 Z: None cmd: G1\n",
      "X: 93.8 Y: 92.557 Z: None cmd: G1\n",
      "X: 94.616 Y: 92.727 Z: None cmd: G1\n",
      "X: 96.103 Y: 93.023 Z: None cmd: G1\n",
      "X: 96.922 Y: 93.179 Z: None cmd: G1\n",
      "X: 98.472 Y: 93.461 Z: None cmd: G1\n",
      "X: 99.391 Y: 93.622 Z: None cmd: G1\n"
     ]
    }
   ],
   "source": [
    "# test the parseCoord function\n",
    "if(1):\n",
    "\n",
    "# read the gcode file\n",
    "    gcode = read_gcode_file(\"GCODE.txt\")\n",
    "\n",
    "    # create empty lists for the coordinates\n",
    "    X = []\n",
    "    Y = []\n",
    "    Z = []\n",
    "    cmd = []\n",
    "    i = 0\n",
    "    # loop over all lines in the gcode file\n",
    "    for line in gcode:\n",
    "        #print(i)\n",
    "        #i += 1\n",
    "        # parse the coordinates from the line\n",
    "        x, y, z, command, linestring = parseCoord(line)\n",
    "        # append the coordinates to the lists\n",
    "        X.append(x)\n",
    "        Y.append(y)\n",
    "        Z.append(z)\n",
    "        cmd.append(command)\n",
    "\n",
    "# print first 10 elements of X Y Z\n",
    "j = 50\n",
    "if(1):\n",
    "    for i in range(j):\n",
    "        print(f\"X: {X[i]} Y: {Y[i]} Z: {Z[i]} cmd: {cmd[i]}\")"
   ]
  },
  {
   "cell_type": "markdown",
   "metadata": {},
   "source": [
    "# Main "
   ]
  },
  {
   "cell_type": "code",
   "execution_count": 24,
   "metadata": {},
   "outputs": [
    {
     "name": "stdout",
     "output_type": "stream",
     "text": [
      "(10045,)\n",
      "[105. 195. 285. 375.]\n",
      "[105. 195. 285.  15.]\n"
     ]
    }
   ],
   "source": [
    "# read the gcode file\n",
    "gcode = read_gcode_file(\"GCODE.txt\")\n",
    "\n",
    "# print shape of gcode\n",
    "print(gcode.shape)\n",
    "\n",
    "# create laser object\n",
    "numberOfLaser = 4\n",
    "laser = Laser.Laser(numberOfLaser)\n",
    "\n",
    "laser.update_angles(105)\n",
    "print(laser.getAngles())\n",
    "print(laser.getNormAngles())\n"
   ]
  },
  {
   "cell_type": "code",
   "execution_count": null,
   "metadata": {},
   "outputs": [],
   "source": []
  }
 ],
 "metadata": {
  "kernelspec": {
   "display_name": "Python 3.10.10 64-bit",
   "language": "python",
   "name": "python3"
  },
  "language_info": {
   "codemirror_mode": {
    "name": "ipython",
    "version": 3
   },
   "file_extension": ".py",
   "mimetype": "text/x-python",
   "name": "python",
   "nbconvert_exporter": "python",
   "pygments_lexer": "ipython3",
   "version": "3.10.10"
  },
  "orig_nbformat": 4,
  "vscode": {
   "interpreter": {
    "hash": "bd385fe162c5ca0c84973b7dd5c518456272446b2b64e67c2a69f949ca7a1754"
   }
  }
 },
 "nbformat": 4,
 "nbformat_minor": 2
}
