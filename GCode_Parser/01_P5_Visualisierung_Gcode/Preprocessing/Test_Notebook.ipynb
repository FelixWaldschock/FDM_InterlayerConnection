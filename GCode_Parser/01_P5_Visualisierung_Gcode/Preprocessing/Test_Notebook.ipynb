{
 "cells": [
  {
   "cell_type": "code",
   "execution_count": 6,
   "metadata": {},
   "outputs": [],
   "source": [
    "# import libs\n",
    "\n",
    "import numpy as np\n"
   ]
  },
  {
   "cell_type": "markdown",
   "metadata": {},
   "source": [
    "Def functions"
   ]
  },
  {
   "cell_type": "code",
   "execution_count": 7,
   "metadata": {},
   "outputs": [],
   "source": [
    "# read G-Code file and return a list of strings\n",
    "def read_gcode_file(filename):\n",
    "    tmp = []\n",
    "    with open(filename, 'r') as f:\n",
    "        gcode = f.readlines()\n",
    "    for line in gcode:\n",
    "        tmp.append(line)\n",
    "    \n",
    "    return tmp\n",
    "    "
   ]
  },
  {
   "cell_type": "code",
   "execution_count": 8,
   "metadata": {},
   "outputs": [],
   "source": [
    "def parseCoord(linestring):\n",
    "    line = linestring\n",
    "    X = None\n",
    "    Y = None\n",
    "    Z = None\n",
    "    \n",
    "    # parse the X Y Z coords from string to float\n",
    "    if 'X' in line:\n",
    "        X = float(line.split('X')[-1].split(' ')[0])\n",
    "    if 'Y' in line:\n",
    "        Y = float(line.split('Y')[-1].split(' ')[0])\n",
    "    if 'Z' in line:\n",
    "        Z = float(line.split('Z')[-1].split(' ')[0])\n",
    "    \n",
    "\n",
    "    return X, Y, Z, linestring"
   ]
  },
  {
   "cell_type": "code",
   "execution_count": 9,
   "metadata": {},
   "outputs": [],
   "source": [
    "# calculate the distance between two points\n",
    "def calcDistance(x0, y0, x1, y1):\n",
    "    return np.sqrt((x1-x0)**2 + (y1-y0)**2)\n"
   ]
  },
  {
   "cell_type": "code",
   "execution_count": 10,
   "metadata": {},
   "outputs": [],
   "source": [
    "# calculate angle between two points (atan2)\n",
    "def calcAngle(x0, y0, x1, y1):\n",
    "    newAngle = np.arctan2((y1-y0),(x1-x0))\n",
    "    if newAngle < 0:\n",
    "        newAngle = 2*np.pi - np.abs(newAngle)\n",
    "    # convert to degrees\n",
    "    newAngle = newAngle*180/np.pi\n",
    "    return newAngle"
   ]
  },
  {
   "cell_type": "code",
   "execution_count": 11,
   "metadata": {},
   "outputs": [],
   "source": [
    "def postProcessGcode(gCodeArray, nLaser):\n",
    "\n",
    "\n",
    "    return True"
   ]
  },
  {
   "cell_type": "code",
   "execution_count": 12,
   "metadata": {},
   "outputs": [],
   "source": [
    "# main\n",
    "l = read_gcode_file(\"GCODE.txt\")\n",
    "l = np.array(l)"
   ]
  },
  {
   "cell_type": "code",
   "execution_count": 14,
   "metadata": {},
   "outputs": [
    {
     "name": "stdout",
     "output_type": "stream",
     "text": [
      "45.0\n",
      "315.0\n",
      "225.0\n",
      "135.0\n"
     ]
    }
   ],
   "source": [
    "# test calcAngle function\n",
    "print(calcAngle(0,0,1,1))\n",
    "print(calcAngle(0,0,1,-1))\n",
    "print(calcAngle(0,0,-1,-1))\n",
    "print(calcAngle(0,0,-1,1))\n"
   ]
  }
 ],
 "metadata": {
  "kernelspec": {
   "display_name": "Python 3.10.10 64-bit",
   "language": "python",
   "name": "python3"
  },
  "language_info": {
   "codemirror_mode": {
    "name": "ipython",
    "version": 3
   },
   "file_extension": ".py",
   "mimetype": "text/x-python",
   "name": "python",
   "nbconvert_exporter": "python",
   "pygments_lexer": "ipython3",
   "version": "3.10.10"
  },
  "orig_nbformat": 4,
  "vscode": {
   "interpreter": {
    "hash": "bd385fe162c5ca0c84973b7dd5c518456272446b2b64e67c2a69f949ca7a1754"
   }
  }
 },
 "nbformat": 4,
 "nbformat_minor": 2
}
