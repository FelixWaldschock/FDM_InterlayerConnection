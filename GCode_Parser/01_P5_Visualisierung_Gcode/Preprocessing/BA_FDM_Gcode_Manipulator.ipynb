{
 "cells": [
  {
   "cell_type": "code",
   "execution_count": 79,
   "metadata": {},
   "outputs": [],
   "source": [
    "import numpy as np\n",
    "import os\n",
    "import sys\n",
    "import matplotlib.pyplot as plt\n",
    "from Laser import Laser\n",
    "import datetime"
   ]
  },
  {
   "cell_type": "markdown",
   "id": "232ccc78",
   "metadata": {},
   "source": [
    "# Import custom functions"
   ]
  },
  {
   "cell_type": "code",
   "execution_count": null,
   "metadata": {},
   "outputs": [],
   "source": []
  },
  {
   "cell_type": "code",
   "execution_count": null,
   "id": "35dacd2f",
   "metadata": {},
   "outputs": [],
   "source": [
    "# read G-Code file and return a list of strings\n",
    "def read_gcode_file(filename):\n",
    "    lst = []\n",
    "    with open(filename, 'r') as f:\n",
    "        gcode = f.readlines()\n",
    "    for line in gcode:\n",
    "        lst.append(line)\n",
    "    \n",
    "    return lst\n",
    "    "
   ]
  },
  {
   "cell_type": "code",
   "execution_count": 80,
   "id": "f82ba0ea",
   "metadata": {},
   "outputs": [],
   "source": [
    "def findAngle(x,y,x_last,y_last):\n",
    "    newAngle = np.arctan2((y-y_last),(x-x_last))\n",
    "    if newAngle < 0:\n",
    "        newAngle = 2*np.pi - np.abs(newAngle)\n",
    "    # convert to degrees\n",
    "    newAngle = newAngle*180/np.pi\n",
    "    return newAngle"
   ]
  },
  {
   "cell_type": "code",
   "execution_count": 81,
   "id": "13177b2a",
   "metadata": {},
   "outputs": [],
   "source": [
    "def find_closest_angle(target_angle, anglesObj):\n",
    "    angles = anglesObj.angles\n",
    "    # Convert all angles to be in the range [0, 360)\n",
    "    normalized_angles = np.mod(angles, 360)\n",
    "    target_angle = target_angle % 360\n",
    "\n",
    "    # Calculate the distance between the target angle and each angle\n",
    "    distances = np.minimum(np.abs(target_angle - normalized_angles), 360 - np.abs(target_angle - normalized_angles))\n",
    "    \n",
    "    # Find the index of the smallest distance\n",
    "    closest_index = np.argmin(distances)\n",
    "\n",
    "    # Calculate the delta between the target angle and the closest angle\n",
    "    delta = normalized_angles[closest_index] - target_angle\n",
    "\n",
    "    n = angles.shape[0]\n",
    "\n",
    "   \n",
    "#######\n",
    "    if delta > 180:\n",
    "        delta -= 360\n",
    "    elif delta < -180:\n",
    "        delta += 360\n",
    "#######\n",
    "\n",
    "    if (delta > ((180/n)+0.5)):\n",
    "        print(f'ERROR in delta calculation! delta: {delta}; index {closest_index}; normalizedAbgle {normalized_angles[closest_index]}')\n",
    "\n",
    "\n",
    "\n",
    "    # update angles\n",
    "    anglesObj.update_angles(delta)    \n",
    "\n",
    "    return closest_index, delta, target_angle"
   ]
  },
  {
   "cell_type": "code",
   "execution_count": 82,
   "id": "1a93c8f6",
   "metadata": {},
   "outputs": [],
   "source": [
    "# def function to loop thru array of coords\n",
    "def loopCoords(coords, laserObj):\n",
    "    deltaErr = 0\n",
    "    # split coords\n",
    "    X = [x[0] for x in coords]\n",
    "    Y = [x[1] for x in coords]\n",
    "    Z = [x[2] for x in coords]\n",
    "    \n",
    "    angles = []\n",
    "\n",
    "    for i in range(len(X)-1):\n",
    "        x = X[i]\n",
    "        x_last = X[i-1]\n",
    "        y = Y[i]\n",
    "        y_last = Y[i-1]\n",
    "\n",
    "\n",
    "        angle = findAngle(x,y,x_last,y_last)\n",
    "        angles.append(angle)\n",
    "\n",
    "    angles = np.array(angles)\n",
    "\n",
    "    # find closest angle\n",
    "    closest_angles = []\n",
    "    deltas = []\n",
    "    target_angles = []\n",
    "    for i in range(len(angles)):\n",
    "        closestIndex, delta, target_angle = find_closest_angle(angles[i], laserObj)\n",
    "        closest_angles.append(closestIndex)\n",
    "        deltas.append(delta)\n",
    "        target_angles.append(target_angle)\n",
    "        # collect errors\n",
    "        if delta > (360/laserObj.angles.shape[0]):\n",
    "            deltaErr += 1\n",
    "\n",
    "    # save all data in a csv file: X, Y, Z, angles, closestIndex, deltas, deltaErr\n",
    "    # convert to numpy arrays\n",
    "    X = np.array(X)\n",
    "    Y = np.array(Y)\n",
    "    Z = np.array(Z)\n",
    "    angles = np.array(angles)\n",
    "    closestIndex = np.array(closest_angles)\n",
    "    deltas = np.array(deltas)\n",
    "    deltaErr = np.array(deltaErr)\n",
    "    target_angles = np.array(target_angles)\n",
    "\n",
    "    \n",
    "\n",
    "    # remove first element of each array\n",
    "    X = np.delete(X, 0)\n",
    "    Y = np.delete(Y, 0)\n",
    "    Z = np.delete(Z, 0)\n",
    "\n",
    "\n",
    "    # print dimensions of X, Y, Z, angles, closestIndex, deltas, deltaErr\n",
    "    print(f'X: {X.shape}; Y: {Y.shape}; Z: {Z.shape}; angles: {angles.shape}; closestIndex: {closestIndex.shape}; deltas: {deltas.shape}')\n",
    "\n",
    "    np.savetxt('dataP5.csv', np.column_stack((X,Y,Z,angles,closestIndex,deltas, target_angles)), delimiter=',', fmt='%s')\n",
    "\n",
    "    return angles, closestIndex, deltas, deltaErr\n",
    "   "
   ]
  },
  {
   "cell_type": "code",
   "execution_count": 83,
   "id": "fb1147cd",
   "metadata": {},
   "outputs": [
    {
     "name": "stdout",
     "output_type": "stream",
     "text": [
      "(9828, 3)\n"
     ]
    }
   ],
   "source": [
    "# load test data\n",
    "p = np.load('npOutput.npy')\n",
    "print(p.shape)"
   ]
  },
  {
   "cell_type": "code",
   "execution_count": 84,
   "id": "ed4a0a00",
   "metadata": {},
   "outputs": [
    {
     "name": "stdout",
     "output_type": "stream",
     "text": [
      "X: (9827,); Y: (9827,); Z: (9827,); angles: (9827,); closestIndex: (9827,); deltas: (9827,)\n"
     ]
    }
   ],
   "source": [
    "# init lasers\n",
    "nLasers = 4\n",
    "Laser = Laser(nLasers)\n",
    "\n",
    "# get coords\n",
    "coords = np.array(p)\n",
    "\n",
    "# run thru loop\n",
    "angles, closest_angles, deltas, error = loopCoords(coords, Laser)\n",
    "\n",
    "#print(f'Errors in delta calculation: {error}; Total laser movements: {Laser.absLaserMovement}')"
   ]
  },
  {
   "cell_type": "code",
   "execution_count": 85,
   "id": "3d8eb1de",
   "metadata": {},
   "outputs": [
    {
     "name": "stdout",
     "output_type": "stream",
     "text": [
      "LogFiles/2023-03-06 10:03:36.377990\n",
      "Error abs: 0; Error rel: 0.0\n"
     ]
    }
   ],
   "source": [
    "# safe all data as npy in the LogFiles folder, but create a new subfolder for each run, foldernames are an incrementing number\n",
    "# check highest number in LogFiles folder\n",
    "\n",
    "\n",
    "# create new folder\n",
    "newFolder = 'LogFiles/' + str(datetime.datetime.now())\n",
    "print(newFolder)\n",
    "os.mkdir(newFolder)\n",
    "\n",
    "# save data\n",
    "np.save(newFolder + '/angles.npy', angles)\n",
    "np.save(newFolder + '/closest_angles.npy', closest_angles)\n",
    "np.save(newFolder + '/deltas.npy', deltas)\n",
    "\n",
    "# save a csv file with following data: x, y, z, angle, closest_angle, delta\n",
    "\n",
    "\n",
    "# save error, total laser movement and nLasers as json file\n",
    "with open(newFolder + '/Info.json', 'w') as f:\n",
    "    f.write('{\\n')\n",
    "    f.write(f'\\t\"error\": {error},\\n')\n",
    "    f.write(f'\\t\"totalLaserMovement\": {Laser.absLaserMovement},\\n')\n",
    "    f.write(f'\\t\"nLasers\": {nLasers}\\n')\n",
    "    f.write('}')\n",
    "\n",
    "print(f'Error abs: {error}; Error rel: {error/np.shape(coords)[0]}')"
   ]
  },
  {
   "cell_type": "code",
   "execution_count": 86,
   "id": "edf89709",
   "metadata": {},
   "outputs": [],
   "source": [
    "# safe the parameters into a csv file for later comparison\n",
    "# open log file\n",
    "logFile = open('logFile.csv', 'a')\n",
    "# write header only if file is empty\n",
    "if os.stat('logFile.csv').st_size == 0:\n",
    "    logFile.write('Datetime;absLaserMovement;nLaser\\n')\n",
    "\n",
    "# write data on new line\n",
    "logFile.write(f'{datetime.datetime.now()};{Laser.absLaserMovement};{nLasers}\\n')\n",
    "\n",
    "\n",
    "\n",
    "# close log file\n",
    "logFile.close()\n",
    "\n",
    "\n"
   ]
  }
 ],
 "metadata": {
  "kernelspec": {
   "display_name": "Python 3.10.10 64-bit",
   "language": "python",
   "name": "python3"
  },
  "language_info": {
   "codemirror_mode": {
    "name": "ipython",
    "version": 3
   },
   "file_extension": ".py",
   "mimetype": "text/x-python",
   "name": "python",
   "nbconvert_exporter": "python",
   "pygments_lexer": "ipython3",
   "version": "3.10.10"
  },
  "vscode": {
   "interpreter": {
    "hash": "bd385fe162c5ca0c84973b7dd5c518456272446b2b64e67c2a69f949ca7a1754"
   }
  }
 },
 "nbformat": 4,
 "nbformat_minor": 5
}
