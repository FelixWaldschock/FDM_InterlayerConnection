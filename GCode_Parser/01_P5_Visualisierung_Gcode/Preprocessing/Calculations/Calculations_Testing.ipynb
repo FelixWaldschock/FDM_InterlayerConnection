{
 "cells": [
  {
   "cell_type": "code",
   "execution_count": 48,
   "metadata": {},
   "outputs": [],
   "source": [
    "import numpy as np\n",
    "import matplotlib.pyplot as plt"
   ]
  },
  {
   "cell_type": "code",
   "execution_count": 49,
   "metadata": {},
   "outputs": [],
   "source": [
    "# define coorinate points\n",
    "p0 = [50, 50]\n",
    "p1 = [120, 80]\n",
    "p2 = [120, 120]\n",
    "p3 = [55, 130]"
   ]
  },
  {
   "cell_type": "code",
   "execution_count": 50,
   "metadata": {},
   "outputs": [],
   "source": [
    "def getAngle(current, next):\n",
    "    x = next[0] - current[0]\n",
    "    y = next[1] - current[1]\n",
    "    angle = np.arctan2(y, x)\n",
    "    angle = np.rad2deg(angle)\n",
    "    return angle"
   ]
  },
  {
   "cell_type": "code",
   "execution_count": 51,
   "metadata": {},
   "outputs": [
    {
     "name": "stdout",
     "output_type": "stream",
     "text": [
      "23.19859051364819\n",
      "90.0\n",
      "171.2538377374448\n",
      "-93.57633437499736\n",
      "Normalized angles:\n",
      "23.19859051364819\n",
      "90.0\n",
      "171.2538377374448\n",
      "266.4236656250026\n"
     ]
    }
   ],
   "source": [
    "# evaluate angles\n",
    "angle0 = getAngle(p0, p1)\n",
    "angle1 = getAngle(p1, p2)\n",
    "angle2 = getAngle(p2, p3)\n",
    "angle3 = getAngle(p3, p0)\n",
    "\n",
    "print(angle0)\n",
    "print(angle1)\n",
    "print(angle2)\n",
    "print(angle3)\n",
    "\n",
    "print(\"Normalized angles:\")\n",
    "angle0 = np.mod(angle0, 360)\n",
    "angle1 = np.mod(angle1, 360)\n",
    "angle2 = np.mod(angle2, 360)\n",
    "angle3 = np.mod(angle3, 360)\n",
    "\n",
    "print(angle0)\n",
    "print(angle1)\n",
    "print(angle2)\n",
    "print(angle3)\n"
   ]
  },
  {
   "cell_type": "code",
   "execution_count": 52,
   "metadata": {},
   "outputs": [
    {
     "data": {
      "text/plain": [
       "(25.0, 135.0, 25.0, 135.0)"
      ]
     },
     "execution_count": 52,
     "metadata": {},
     "output_type": "execute_result"
    },
    {
     "data": {
      "image/png": "[encoded data removed]",
      "text/plain": [
       "<Figure size 640x480 with 1 Axes>"
      ]
     },
     "metadata": {},
     "output_type": "display_data"
    }
   ],
   "source": [
    "# plot points\n",
    "x = [p0[0], p1[0], p2[0], p3[0]]\n",
    "y = [p0[1], p1[1], p2[1], p3[1]]\n",
    "plt.plot(x, y, 'ro')\n",
    "plt.axis([25, 135, 25, 135])"
   ]
  },
  {
   "cell_type": "code",
   "execution_count": 57,
   "metadata": {},
   "outputs": [],
   "source": [
    "def calcAngle(x0, y0, x1, y1):\n",
    "    newAngle = np.arctan2((y1-y0),(x1-x0))\n",
    "   \n",
    "    # convert to degrees\n",
    "    newAngle = np.rad2deg(newAngle)\n",
    "    \n",
    "    # normalize angle\n",
    "    newAngle = np.mod(newAngle, 360)\n",
    "    \n",
    "    return newAngle"
   ]
  },
  {
   "cell_type": "code",
   "execution_count": 58,
   "metadata": {},
   "outputs": [
    {
     "name": "stdout",
     "output_type": "stream",
     "text": [
      "(270.0, -90.0)\n"
     ]
    }
   ],
   "source": [
    "print(calcAngle(p0[0], p1[0], p0[1], p1[1]))"
   ]
  }
 ],
 "metadata": {
  "kernelspec": {
   "display_name": "Python 3.10.10 64-bit",
   "language": "python",
   "name": "python3"
  },
  "language_info": {
   "codemirror_mode": {
    "name": "ipython",
    "version": 3
   },
   "file_extension": ".py",
   "mimetype": "text/x-python",
   "name": "python",
   "nbconvert_exporter": "python",
   "pygments_lexer": "ipython3",
   "version": "3.10.10"
  },
  "orig_nbformat": 4,
  "vscode": {
   "interpreter": {
    "hash": "bd385fe162c5ca0c84973b7dd5c518456272446b2b64e67c2a69f949ca7a1754"
   }
  }
 },
 "nbformat": 4,
 "nbformat_minor": 2
}
