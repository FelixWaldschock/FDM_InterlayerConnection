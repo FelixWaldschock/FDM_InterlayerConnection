{
 "cells": [
  {
   "cell_type": "code",
   "execution_count": 36,
   "metadata": {},
   "outputs": [],
   "source": [
    "# import libs\n",
    "\n",
    "import numpy as np\n",
    "import Laser\n",
    "import gCode\n",
    "import random\n",
    "import Printer\n"
   ]
  },
  {
   "cell_type": "markdown",
   "metadata": {},
   "source": [
    "# Important definition\n",
    "positive angle in CCW direction\n",
    "\n",
    "### Units\n",
    "Distances: mm  \n",
    "Angles: degrees"
   ]
  },
  {
   "cell_type": "markdown",
   "metadata": {},
   "source": [
    "# Define functions"
   ]
  },
  {
   "cell_type": "markdown",
   "metadata": {},
   "source": []
  },
  {
   "cell_type": "code",
   "execution_count": 37,
   "metadata": {},
   "outputs": [],
   "source": [
    "# read G-Code file and return a list of strings\n",
    "def read_gcode_file(filename):\n",
    "    tmp = []\n",
    "    with open(filename, 'r') as f:\n",
    "        gcode = f.readlines()\n",
    "    for line in gcode:\n",
    "        tmp.append(line)\n",
    "    \n",
    "    return np.array(tmp)\n",
    "    "
   ]
  },
  {
   "cell_type": "code",
   "execution_count": 38,
   "metadata": {},
   "outputs": [],
   "source": [
    "def parseCoord(gCodeObj,linestring):\n",
    "    line = linestring\n",
    "    X = None\n",
    "    Y = None\n",
    "    Z = None\n",
    "    move = False\n",
    "\n",
    "    # check the command of the gcode line (string until first space)\n",
    "    command = line.split(' ')[0]\n",
    "\n",
    "    # check if line is ;LAYER:1 and gCodeObj.firstLayerCheck is False\n",
    "    if line.startswith(';LAYER:1') and not gCodeObj.firstLayerCheck:\n",
    "        gCodeObj.updateFirstLayerCheck(True)\n",
    "        print(\"First layer check is True\")\n",
    "\n",
    "    # check if firstLayerCheck is True\n",
    "    if gCodeObj.firstLayerCheck:\n",
    "        # if command == G1 or G0 than move = True\n",
    "        if command == 'G1' or command == 'G0':\n",
    "            move = True\n",
    "        if command == 'G1':\n",
    "            gCodeObj.updateNumberOfG1()\n",
    "            \n",
    "        # check if line contains ; which means it is a comment and skip line\n",
    "        if not ';' in line:\n",
    "            # parse the X Y Z coords from string to float\n",
    "            if 'X' in line:\n",
    "                X = float(line.split('X')[-1].split(' ')[0])\n",
    "            elif 'X' not in line:\n",
    "                X = None\n",
    "            if 'Y' in line:\n",
    "                Y = float(line.split('Y')[-1].split(' ')[0])\n",
    "            elif 'Y' not in line:\n",
    "                Y = None\n",
    "            if 'Z' in line:\n",
    "                Z = float(line.split('Z')[-1].split(' ')[0])\n",
    "            elif 'Z' not in line:\n",
    "                Z = None\n",
    "    else:\n",
    "        X = None\n",
    "        Y = None\n",
    "        Z = None\n",
    "    return move, X, Y, Z, command, linestring\n"
   ]
  },
  {
   "cell_type": "code",
   "execution_count": 39,
   "metadata": {},
   "outputs": [],
   "source": [
    "# calculate the distance between two points\n",
    "def calcDistance(x0, y0, x1, y1):\n",
    "    return np.sqrt((x1-x0)**2 + (y1-y0)**2)\n"
   ]
  },
  {
   "cell_type": "code",
   "execution_count": 40,
   "metadata": {},
   "outputs": [],
   "source": [
    "# calculate angle between two points (atan2)\n",
    "def calcAngle(x0, y0, x1, y1):\n",
    "    newAngle = np.arctan2((y1-y0),(x1-x0))\n",
    "   \n",
    "    # convert to degrees\n",
    "    newAngle = np.rad2deg(newAngle)\n",
    "    \n",
    "    # normalize angle\n",
    "    #newAngle = np.mod(newAngle, 360)\n",
    "    \n",
    "    return newAngle"
   ]
  },
  {
   "cell_type": "code",
   "execution_count": 41,
   "metadata": {},
   "outputs": [],
   "source": [
    "def findClosestAngle(targetAngle, LaserObj):\n",
    "    currentAngles = LaserObj.getNormAngles()\n",
    "    \n",
    "    # find the closest angle in the list of angles\n",
    "    closestAngleIndx = np.argmin(np.abs(currentAngles - targetAngle))\n",
    "    closestAngle = currentAngles[closestAngleIndx]\n",
    "\n",
    "    # calculte delta bewteen target and closest angle\n",
    "    deltaAngle = targetAngle - closestAngle\n",
    "\n",
    "    # update the angle of the laser\n",
    "    #LaserObj.updateAngles(deltaAngle)\n",
    "\n",
    "    return closestAngleIndx, deltaAngle\n",
    "\n",
    "    "
   ]
  },
  {
   "cell_type": "code",
   "execution_count": 42,
   "metadata": {},
   "outputs": [],
   "source": [
    "\n",
    "def convertAngleToSteps(angle):\n",
    "    return angle\n"
   ]
  },
  {
   "cell_type": "code",
   "execution_count": 43,
   "metadata": {},
   "outputs": [],
   "source": [
    "def postProcessGcode(gCodeArray, thresholdDist, thresholdAngle, LaserObj, newFilePath, gCodeObj):\n",
    "\n",
    "    for i in range(gCodeArray.shape[0]-1):\n",
    "        move0, X0, Y0, Z0, command0, line0 = parseCoord(gCodeObj, gCodeArray[i])\n",
    "        move1, X1, Y1, Z1, command1, line1 = parseCoord(gCodeObj,gCodeArray[i+1])\n",
    "\n",
    "        # update lastPos if move1 is False and move0 is True\n",
    "        if move0 and not move1:\n",
    "            gCodeObj.updateLastPos(X0, Y0, Z0)\n",
    "\n",
    "        # PWM power\n",
    "        pwm = 1\n",
    "\n",
    "        # clear Extruder for testing\n",
    "        if(0):\n",
    "            # copy line0 until reaches E \n",
    "            line0 = line0.split('E')[0] + '\\n'\n",
    "\n",
    "        # check if both lines are moves\n",
    "        if move0 and move1:\n",
    "            # check if the distance between the two points is larger than the threshold\n",
    "        \n",
    "            #print(\"i:\", i+1, \"move0: \", move0, \"move1: \", move1, \"X0: \", X0, \"Y0: \", Y0, \"Z0: \", Z0, \"command0: \", command0, \"line0: \", line0, \"X1: \", X1, \"Y1: \", Y1, \"Z1: \", Z1, \"command1: \", command1, \"line1: \", line1)\n",
    "            dist = calcDistance(X0, Y0, X1, Y1)\n",
    "            gCodeObj.updateTotalLengthOfG1(dist)\n",
    "\n",
    "            # calculate the angle between the two points\n",
    "            targetAngle = calcAngle(X0, Y0, X1, Y1)\n",
    "            lastAngle = gCodeObj.getLastAngle()\n",
    "            \n",
    "            # update the last angle\n",
    "            gCodeObj.updateLastAngle(targetAngle)\n",
    "\n",
    "            # noralize the traget angle\n",
    "            targetAngle = np.mod(targetAngle, 360)\n",
    "\n",
    "            # find the closest angle to the target angle\n",
    "            closestAngleIndx, deltaAngle = findClosestAngle(targetAngle, LaserObj)\n",
    "            # update the angle of the laser\n",
    "            LaserObj.updateAngles(deltaAngle)\n",
    "            # convert the angle to steps\n",
    "            steps = convertAngleToSteps(deltaAngle)\n",
    "                \n",
    "            # define string offset for physical laser connection\n",
    "            laserStringOffset = 2\n",
    "\n",
    "            # MODUS LINEARE \n",
    "            if dist >= thresholdDist:            # and not (abs(lastAngle - targetAngle)>45)\n",
    "                # activate laser PWM signal\n",
    "                newLine02 = \"\\nM106 P\" + str(closestAngleIndx+laserStringOffset) + \" S\" + str(pwm) +'\\n'\n",
    "                absAngle = LaserObj.getAbsLaserPos()\n",
    "                newLine02 += \"G1 F10000 A\" + str(absAngle) + '\\n'\n",
    "                # insert line1 and delete '\\n'\n",
    "                nline0 = line1\n",
    "                \n",
    "                #newLine03 = nline1 + \" A\" + str(absAngle) + '\\n'\n",
    "                \n",
    "                # deactivate laser PWM signal\n",
    "                newLine04 = \"M106 P\" + str(closestAngleIndx+laserStringOffset) + \" S0.0\"\n",
    "\n",
    "\n",
    "\n",
    "                # append new lines to newFilePath\n",
    "                with open(newFilePath, 'a') as f:\n",
    "                    f.write(newLine02)\n",
    "                    f.write(nline0)\n",
    "                    f.write(newLine04)\n",
    "                    f.close()\n",
    "\n",
    "            # MODUS KURVE\n",
    "            elif (dist < thresholdDist and (abs(LaserObj.lastAngle-deltaAngle)<thresholdAngle)):\n",
    "                # check if next laser == last laser\n",
    "                if closestAngleIndx != LaserObj.getLastActivatedLaser():\n",
    "                    # deactivate all lasers that are active\n",
    "                    for l in LaserObj.OnOffState:\n",
    "                        if l:\n",
    "                            newLine02 = \"M106 P\" + str(l+laserStringOffset) + \" S0.0\\n\"\n",
    "                            with open(newFilePath, 'a') as f:\n",
    "                                f.write(newLine02)\n",
    "                                f.close()\n",
    "                    # activate laser PWM signal\n",
    "                    newLine02 = \"M106 P\" + str(closestAngleIndx+laserStringOffset) + \" S\" + str(pwm) +'\\n'\n",
    "                    with open(newFilePath, 'a') as f:\n",
    "                                f.write(newLine02)\n",
    "                                f.close()\n",
    "                # drive the motion and turn the angle\n",
    "                absAngle = LaserObj.getAbsLaserPos()\n",
    "                # insert line0 and delete '\\n'\n",
    "                nline0 = line1\n",
    "                # remove '\\n' from nline0\n",
    "                nline0 = nline0[:-1]                           \n",
    "                newLine03 = nline0 + \" A\" + str(absAngle) + '\\n'\n",
    "                # append new lines to newFilePath\n",
    "                with open(newFilePath, 'a') as f:\n",
    "                    f.write(newLine03)\n",
    "                    f.close()\n",
    "\n",
    "        \n",
    "\n",
    "            # else append line\n",
    "            # append line0 to newFilePath\n",
    "            \n",
    "            else:\n",
    "                with open(newFilePath, 'a') as f:\n",
    "                    f.write(line1)\n",
    "                    f.close()\n",
    "\n",
    "        else:\n",
    "            # append line0 to newFilePath\n",
    "            with open(newFilePath, 'a') as f:\n",
    "                f.write(line1)\n",
    "                f.close()\n",
    "\n",
    "    return True"
   ]
  },
  {
   "cell_type": "markdown",
   "metadata": {},
   "source": [
    "# Test functions"
   ]
  },
  {
   "cell_type": "markdown",
   "metadata": {},
   "source": []
  },
  {
   "cell_type": "code",
   "execution_count": 44,
   "metadata": {},
   "outputs": [],
   "source": [
    "# test calcAngle function\n",
    "if (0):\n",
    "    print(calcAngle(0,0,0,0))\n",
    "    print(calcAngle(0,0,1,-1))\n",
    "    print(calcAngle(0,0,-1,-1))\n",
    "    print(calcAngle(0,0,-1,1))\n"
   ]
  },
  {
   "cell_type": "code",
   "execution_count": 45,
   "metadata": {},
   "outputs": [],
   "source": [
    "# test the parseCoord function\n",
    "if(0):\n",
    "\n",
    "# read the gcode file\n",
    "    gcode = read_gcode_file(\"GCODE.txt\")\n",
    "\n",
    "    # create empty lists for the coordinates\n",
    "    X = []\n",
    "    Y = []\n",
    "    Z = []\n",
    "    cmd = []\n",
    "    i = 0\n",
    "    # loop over all lines in the gcode file\n",
    "    for line in gcode:\n",
    "        #print(i)\n",
    "        #i += 1\n",
    "        # parse the coordinates from the line\n",
    "        moveBool, x, y, z, command, linestring = parseCoord(line)\n",
    "        # append the coordinates to the lists\n",
    "        X.append(x)\n",
    "        Y.append(y)\n",
    "        Z.append(z)\n",
    "        cmd.append(command)\n",
    "\n",
    "# print first 10 elements of X Y Z\n",
    "j = 50\n",
    "if(0):\n",
    "    for i in range(j):\n",
    "        print(f\"X: {X[i]} Y: {Y[i]} Z: {Z[i]} cmd: {cmd[i]}\")"
   ]
  },
  {
   "cell_type": "markdown",
   "metadata": {},
   "source": [
    "# Main "
   ]
  },
  {
   "cell_type": "code",
   "execution_count": 46,
   "metadata": {},
   "outputs": [
    {
     "name": "stdout",
     "output_type": "stream",
     "text": [
      "(257,)\n",
      "First layer check is True\n"
     ]
    },
    {
     "ename": "AttributeError",
     "evalue": "'gCode' object has no attribute 'updateLastPos'",
     "output_type": "error",
     "traceback": [
      "\u001b[0;31m---------------------------------------------------------------------------\u001b[0m",
      "\u001b[0;31mAttributeError\u001b[0m                            Traceback (most recent call last)",
      "Cell \u001b[0;32mIn [46], line 32\u001b[0m\n\u001b[1;32m     29\u001b[0m     f\u001b[38;5;241m.\u001b[39mclose()\n\u001b[1;32m     31\u001b[0m \u001b[38;5;66;03m# post process the gcode\u001b[39;00m\n\u001b[0;32m---> 32\u001b[0m \u001b[38;5;28mprint\u001b[39m(\u001b[43mpostProcessGcode\u001b[49m\u001b[43m(\u001b[49m\u001b[43mgcode\u001b[49m\u001b[43m,\u001b[49m\u001b[43m \u001b[49m\u001b[43mminDistance\u001b[49m\u001b[43m,\u001b[49m\u001b[43m \u001b[49m\u001b[43mlaser\u001b[49m\u001b[43m,\u001b[49m\u001b[43m \u001b[49m\u001b[43mnewFilePath\u001b[49m\u001b[43m,\u001b[49m\u001b[43m \u001b[49m\u001b[43mgCodeObj\u001b[49m\u001b[43m)\u001b[49m)\n",
      "Cell \u001b[0;32mIn [43], line 9\u001b[0m, in \u001b[0;36mpostProcessGcode\u001b[0;34m(gCodeArray, threshold, LaserObj, newFilePath, gCodeObj)\u001b[0m\n\u001b[1;32m      7\u001b[0m \u001b[38;5;66;03m# update lastPos if move1 is False and move0 is True\u001b[39;00m\n\u001b[1;32m      8\u001b[0m \u001b[38;5;28;01mif\u001b[39;00m move0 \u001b[38;5;129;01mand\u001b[39;00m \u001b[38;5;129;01mnot\u001b[39;00m move1:\n\u001b[0;32m----> 9\u001b[0m     \u001b[43mgCodeObj\u001b[49m\u001b[38;5;241;43m.\u001b[39;49m\u001b[43mupdateLastPos\u001b[49m(X0, Y0, Z0)\n\u001b[1;32m     11\u001b[0m \u001b[38;5;66;03m# PWM power\u001b[39;00m\n\u001b[1;32m     12\u001b[0m pwm \u001b[38;5;241m=\u001b[39m \u001b[38;5;241m1\u001b[39m\n",
      "\u001b[0;31mAttributeError\u001b[0m: 'gCode' object has no attribute 'updateLastPos'"
     ]
    }
   ],
   "source": [
    "# initiate Printer object, for duration calculation of process\n",
    "Prusa = Printer.Printer(velocity_trans=100, velocity_angular=100)\n",
    "\n",
    "# read the gcode file\n",
    "gcode = read_gcode_file(\"Input/PI3MK3M_Circle_50mm.gcode\")\n",
    "gCodeObj = gCode.gCode(\"gCode\")\n",
    "\n",
    "# print shape of gcode\n",
    "print(gcode.shape)\n",
    "\n",
    "# create laser object\n",
    "numberOfLaser = 4\n",
    "laser = Laser.Laser(numberOfLaser)\n",
    "\n",
    "# threshold for the distance between two points \n",
    "minDistance = 0.05\n",
    "\n",
    "# check index in Output/index.txt\n",
    "with open(\"Output/index.txt\", 'r') as f:\n",
    "    index = int(f.read())\n",
    "    f.close()\n",
    "\n",
    "# create new file\n",
    "newFilePath = \"Output/GCODE_postprocessed_\" + str(index) + \".gcode\"\n",
    "\n",
    "# iterate index in Output/index.txt\n",
    "with open(\"Output/index.txt\", 'w') as f:\n",
    "    f.write(str(index+1))\n",
    "    f.close()\n",
    "\n",
    "# post process the gcode\n",
    "print(postProcessGcode(gcode, minDistance, laser, newFilePath, gCodeObj))\n"
   ]
  },
  {
   "cell_type": "code",
   "execution_count": null,
   "metadata": {},
   "outputs": [
    {
     "name": "stdout",
     "output_type": "stream",
     "text": [
      "True\n",
      "45.02895539674188\n",
      "Total lenght of G1 commands:\t 2437.8711843502765 mm\n",
      "Total angle turned: \t45.02895539674188\n",
      "Total number of G1 commands: \t\t158\n"
     ]
    }
   ],
   "source": [
    "print(gCodeObj.firstLayerCheck)\n",
    "print(laser.absLaserMovement)\n",
    "print(\"Total lenght of G1 commands:\\t \" + str(gCodeObj.getTotalLengthOfG1()) + \" mm\")\n",
    "print(\"Total angle turned: \\t\" + str(laser.getAbsLaserMovement()))\n",
    "print(\"Total number of G1 commands: \\t\\t\" + str(gCodeObj.getNumberOfG1()))\n",
    "\n"
   ]
  }
 ],
 "metadata": {
  "kernelspec": {
   "display_name": "Python 3.10.10 64-bit",
   "language": "python",
   "name": "python3"
  },
  "language_info": {
   "codemirror_mode": {
    "name": "ipython",
    "version": 3
   },
   "file_extension": ".py",
   "mimetype": "text/x-python",
   "name": "python",
   "nbconvert_exporter": "python",
   "pygments_lexer": "ipython3",
   "version": "3.10.10"
  },
  "orig_nbformat": 4,
  "vscode": {
   "interpreter": {
    "hash": "bd385fe162c5ca0c84973b7dd5c518456272446b2b64e67c2a69f949ca7a1754"
   }
  }
 },
 "nbformat": 4,
 "nbformat_minor": 2
}
